{
 "cells": [
  {
   "cell_type": "markdown",
   "metadata": {
    "id": "jhYUqaxvD5Ep"
   },
   "source": [
    "# 5: Time Series\n",
    "\n",
    "The hand-in exercise for this topic is Task 3,4 and 6 from the notebook “TSA_Task”. This\n",
    "means that you have to do the cleaning of dataset, then create features (at least 5 new\n",
    "features should be created, and you should be able to justify why you created each of\n",
    "the features). And then, you should train an XGBoost model on the dataset. Note that\n",
    "you also need to do relevant train, test, validation split and be able to explain why you\n",
    "chose a certain split. Lastly, you should calculate evaluation metrics: rmse and mae to\n",
    "show performance of your model. The hyperparameter tuning part is not required."
   ]
  },
  {
   "cell_type": "markdown",
   "metadata": {
    "id": "a3vJkXzjD_lv"
   },
   "source": [
    "---"
   ]
  },
  {
   "cell_type": "markdown",
   "metadata": {
    "id": "CW03k-1EEoal"
   },
   "source": [
    "### Imports:"
   ]
  },
  {
   "cell_type": "code",
   "execution_count": 60,
   "metadata": {
    "executionInfo": {
     "elapsed": 9,
     "status": "ok",
     "timestamp": 1741982008331,
     "user": {
      "displayName": "Daniel Iversen",
      "userId": "04843677771367093898"
     },
     "user_tz": -60
    },
    "id": "Vb4OhTCyEqhC"
   },
   "outputs": [],
   "source": [
    "import pandas as pd\n",
    "import numpy as np\n",
    "import matplotlib.pyplot as plt\n",
    "import seaborn as sns\n",
    "import kagglehub\n",
    "import os\n",
    "import xgboost as xgb\n",
    "from sklearn.model_selection import train_test_split\n",
    "from sklearn.metrics import mean_squared_error, r2_score"
   ]
  },
  {
   "cell_type": "markdown",
   "metadata": {
    "id": "0fjC9xGWFiHz"
   },
   "source": [
    "Get the dataset w kaggleHub"
   ]
  },
  {
   "cell_type": "code",
   "execution_count": 61,
   "metadata": {
    "colab": {
     "base_uri": "https://localhost:8080/"
    },
    "executionInfo": {
     "elapsed": 1581,
     "status": "ok",
     "timestamp": 1741982009914,
     "user": {
      "displayName": "Daniel Iversen",
      "userId": "04843677771367093898"
     },
     "user_tz": -60
    },
    "id": "P8YseKVvEyxb",
    "outputId": "f1d2159b-5b32-4e1b-9288-c76f7cc094a5"
   },
   "outputs": [
    {
     "name": "stdout",
     "output_type": "stream",
     "text": [
      "Path to dataset files: C:\\Users\\danie\\.cache\\kagglehub\\datasets\\lakshmi25npathi\\bike-sharing-dataset\\versions\\1\n"
     ]
    }
   ],
   "source": [
    "path = kagglehub.dataset_download(\"lakshmi25npathi/bike-sharing-dataset\")\n",
    "\n",
    "print(\"Path to dataset files:\", path)"
   ]
  },
  {
   "cell_type": "code",
   "execution_count": 62,
   "metadata": {
    "colab": {
     "base_uri": "https://localhost:8080/"
    },
    "executionInfo": {
     "elapsed": 11,
     "status": "ok",
     "timestamp": 1741982009925,
     "user": {
      "displayName": "Daniel Iversen",
      "userId": "04843677771367093898"
     },
     "user_tz": -60
    },
    "id": "GktugaZqEyhD",
    "outputId": "e502ebe8-b74a-461e-b3d7-4e6fdda18830"
   },
   "outputs": [
    {
     "name": "stdout",
     "output_type": "stream",
     "text": [
      "['day.csv', 'hour.csv', 'Readme.txt']\n"
     ]
    }
   ],
   "source": [
    "dataset_path = \"C:/Users/danie/.cache/kagglehub/datasets/lakshmi25npathi/bike-sharing-dataset/versions/1\"\n",
    "\n",
    "files = os.listdir(dataset_path)\n",
    "print(files)"
   ]
  },
  {
   "cell_type": "code",
   "execution_count": 63,
   "metadata": {
    "executionInfo": {
     "elapsed": 48,
     "status": "ok",
     "timestamp": 1741982009982,
     "user": {
      "displayName": "Daniel Iversen",
      "userId": "04843677771367093898"
     },
     "user_tz": -60
    },
    "id": "ybMWF3PoFRHn"
   },
   "outputs": [],
   "source": [
    "file_path = \"C:/Users/danie/.cache/kagglehub/datasets/lakshmi25npathi/bike-sharing-dataset/versions/1/hour.csv\"\n",
    "\n",
    "df = pd.read_csv(file_path)"
   ]
  },
  {
   "cell_type": "markdown",
   "metadata": {
    "id": "pQnnmduOFrH-"
   },
   "source": [
    "---"
   ]
  },
  {
   "cell_type": "markdown",
   "metadata": {
    "id": "AJ9uO7ThGego"
   },
   "source": [
    "### Task 3 from TSA_task:\n",
    "\n",
    "* Clean and pre-process the dataset as required and prepare the data for modelling."
   ]
  },
  {
   "cell_type": "markdown",
   "metadata": {
    "id": "FXva1nzZFlcv"
   },
   "source": [
    "First look EDA:\n",
    "\n",
    "Using .head(), .info() and .describe() function to get a initial understanding of the data we are handling.\n",
    "Also checking if we need to adress any missing values or other inconsistencies."
   ]
  },
  {
   "cell_type": "code",
   "execution_count": 64,
   "metadata": {
    "colab": {
     "base_uri": "https://localhost:8080/",
     "height": 363
    },
    "executionInfo": {
     "elapsed": 90,
     "status": "ok",
     "timestamp": 1741982010080,
     "user": {
      "displayName": "Daniel Iversen",
      "userId": "04843677771367093898"
     },
     "user_tz": -60
    },
    "id": "E1hClGdqFvN3",
    "outputId": "94a398e7-94c0-4005-e3a4-a006a1f7f853"
   },
   "outputs": [
    {
     "data": {
      "text/html": [
       "<div>\n",
       "<style scoped>\n",
       "    .dataframe tbody tr th:only-of-type {\n",
       "        vertical-align: middle;\n",
       "    }\n",
       "\n",
       "    .dataframe tbody tr th {\n",
       "        vertical-align: top;\n",
       "    }\n",
       "\n",
       "    .dataframe thead th {\n",
       "        text-align: right;\n",
       "    }\n",
       "</style>\n",
       "<table border=\"1\" class=\"dataframe\">\n",
       "  <thead>\n",
       "    <tr style=\"text-align: right;\">\n",
       "      <th></th>\n",
       "      <th>instant</th>\n",
       "      <th>dteday</th>\n",
       "      <th>season</th>\n",
       "      <th>yr</th>\n",
       "      <th>mnth</th>\n",
       "      <th>hr</th>\n",
       "      <th>holiday</th>\n",
       "      <th>weekday</th>\n",
       "      <th>workingday</th>\n",
       "      <th>weathersit</th>\n",
       "      <th>temp</th>\n",
       "      <th>atemp</th>\n",
       "      <th>hum</th>\n",
       "      <th>windspeed</th>\n",
       "      <th>casual</th>\n",
       "      <th>registered</th>\n",
       "      <th>cnt</th>\n",
       "    </tr>\n",
       "  </thead>\n",
       "  <tbody>\n",
       "    <tr>\n",
       "      <th>0</th>\n",
       "      <td>1</td>\n",
       "      <td>2011-01-01</td>\n",
       "      <td>1</td>\n",
       "      <td>0</td>\n",
       "      <td>1</td>\n",
       "      <td>0</td>\n",
       "      <td>0</td>\n",
       "      <td>6</td>\n",
       "      <td>0</td>\n",
       "      <td>1</td>\n",
       "      <td>0.24</td>\n",
       "      <td>0.2879</td>\n",
       "      <td>0.81</td>\n",
       "      <td>0.0000</td>\n",
       "      <td>3</td>\n",
       "      <td>13</td>\n",
       "      <td>16</td>\n",
       "    </tr>\n",
       "    <tr>\n",
       "      <th>1</th>\n",
       "      <td>2</td>\n",
       "      <td>2011-01-01</td>\n",
       "      <td>1</td>\n",
       "      <td>0</td>\n",
       "      <td>1</td>\n",
       "      <td>1</td>\n",
       "      <td>0</td>\n",
       "      <td>6</td>\n",
       "      <td>0</td>\n",
       "      <td>1</td>\n",
       "      <td>0.22</td>\n",
       "      <td>0.2727</td>\n",
       "      <td>0.80</td>\n",
       "      <td>0.0000</td>\n",
       "      <td>8</td>\n",
       "      <td>32</td>\n",
       "      <td>40</td>\n",
       "    </tr>\n",
       "    <tr>\n",
       "      <th>2</th>\n",
       "      <td>3</td>\n",
       "      <td>2011-01-01</td>\n",
       "      <td>1</td>\n",
       "      <td>0</td>\n",
       "      <td>1</td>\n",
       "      <td>2</td>\n",
       "      <td>0</td>\n",
       "      <td>6</td>\n",
       "      <td>0</td>\n",
       "      <td>1</td>\n",
       "      <td>0.22</td>\n",
       "      <td>0.2727</td>\n",
       "      <td>0.80</td>\n",
       "      <td>0.0000</td>\n",
       "      <td>5</td>\n",
       "      <td>27</td>\n",
       "      <td>32</td>\n",
       "    </tr>\n",
       "    <tr>\n",
       "      <th>3</th>\n",
       "      <td>4</td>\n",
       "      <td>2011-01-01</td>\n",
       "      <td>1</td>\n",
       "      <td>0</td>\n",
       "      <td>1</td>\n",
       "      <td>3</td>\n",
       "      <td>0</td>\n",
       "      <td>6</td>\n",
       "      <td>0</td>\n",
       "      <td>1</td>\n",
       "      <td>0.24</td>\n",
       "      <td>0.2879</td>\n",
       "      <td>0.75</td>\n",
       "      <td>0.0000</td>\n",
       "      <td>3</td>\n",
       "      <td>10</td>\n",
       "      <td>13</td>\n",
       "    </tr>\n",
       "    <tr>\n",
       "      <th>4</th>\n",
       "      <td>5</td>\n",
       "      <td>2011-01-01</td>\n",
       "      <td>1</td>\n",
       "      <td>0</td>\n",
       "      <td>1</td>\n",
       "      <td>4</td>\n",
       "      <td>0</td>\n",
       "      <td>6</td>\n",
       "      <td>0</td>\n",
       "      <td>1</td>\n",
       "      <td>0.24</td>\n",
       "      <td>0.2879</td>\n",
       "      <td>0.75</td>\n",
       "      <td>0.0000</td>\n",
       "      <td>0</td>\n",
       "      <td>1</td>\n",
       "      <td>1</td>\n",
       "    </tr>\n",
       "    <tr>\n",
       "      <th>5</th>\n",
       "      <td>6</td>\n",
       "      <td>2011-01-01</td>\n",
       "      <td>1</td>\n",
       "      <td>0</td>\n",
       "      <td>1</td>\n",
       "      <td>5</td>\n",
       "      <td>0</td>\n",
       "      <td>6</td>\n",
       "      <td>0</td>\n",
       "      <td>2</td>\n",
       "      <td>0.24</td>\n",
       "      <td>0.2576</td>\n",
       "      <td>0.75</td>\n",
       "      <td>0.0896</td>\n",
       "      <td>0</td>\n",
       "      <td>1</td>\n",
       "      <td>1</td>\n",
       "    </tr>\n",
       "    <tr>\n",
       "      <th>6</th>\n",
       "      <td>7</td>\n",
       "      <td>2011-01-01</td>\n",
       "      <td>1</td>\n",
       "      <td>0</td>\n",
       "      <td>1</td>\n",
       "      <td>6</td>\n",
       "      <td>0</td>\n",
       "      <td>6</td>\n",
       "      <td>0</td>\n",
       "      <td>1</td>\n",
       "      <td>0.22</td>\n",
       "      <td>0.2727</td>\n",
       "      <td>0.80</td>\n",
       "      <td>0.0000</td>\n",
       "      <td>2</td>\n",
       "      <td>0</td>\n",
       "      <td>2</td>\n",
       "    </tr>\n",
       "    <tr>\n",
       "      <th>7</th>\n",
       "      <td>8</td>\n",
       "      <td>2011-01-01</td>\n",
       "      <td>1</td>\n",
       "      <td>0</td>\n",
       "      <td>1</td>\n",
       "      <td>7</td>\n",
       "      <td>0</td>\n",
       "      <td>6</td>\n",
       "      <td>0</td>\n",
       "      <td>1</td>\n",
       "      <td>0.20</td>\n",
       "      <td>0.2576</td>\n",
       "      <td>0.86</td>\n",
       "      <td>0.0000</td>\n",
       "      <td>1</td>\n",
       "      <td>2</td>\n",
       "      <td>3</td>\n",
       "    </tr>\n",
       "    <tr>\n",
       "      <th>8</th>\n",
       "      <td>9</td>\n",
       "      <td>2011-01-01</td>\n",
       "      <td>1</td>\n",
       "      <td>0</td>\n",
       "      <td>1</td>\n",
       "      <td>8</td>\n",
       "      <td>0</td>\n",
       "      <td>6</td>\n",
       "      <td>0</td>\n",
       "      <td>1</td>\n",
       "      <td>0.24</td>\n",
       "      <td>0.2879</td>\n",
       "      <td>0.75</td>\n",
       "      <td>0.0000</td>\n",
       "      <td>1</td>\n",
       "      <td>7</td>\n",
       "      <td>8</td>\n",
       "    </tr>\n",
       "    <tr>\n",
       "      <th>9</th>\n",
       "      <td>10</td>\n",
       "      <td>2011-01-01</td>\n",
       "      <td>1</td>\n",
       "      <td>0</td>\n",
       "      <td>1</td>\n",
       "      <td>9</td>\n",
       "      <td>0</td>\n",
       "      <td>6</td>\n",
       "      <td>0</td>\n",
       "      <td>1</td>\n",
       "      <td>0.32</td>\n",
       "      <td>0.3485</td>\n",
       "      <td>0.76</td>\n",
       "      <td>0.0000</td>\n",
       "      <td>8</td>\n",
       "      <td>6</td>\n",
       "      <td>14</td>\n",
       "    </tr>\n",
       "  </tbody>\n",
       "</table>\n",
       "</div>"
      ],
      "text/plain": [
       "   instant      dteday  season  yr  mnth  hr  holiday  weekday  workingday  \\\n",
       "0        1  2011-01-01       1   0     1   0        0        6           0   \n",
       "1        2  2011-01-01       1   0     1   1        0        6           0   \n",
       "2        3  2011-01-01       1   0     1   2        0        6           0   \n",
       "3        4  2011-01-01       1   0     1   3        0        6           0   \n",
       "4        5  2011-01-01       1   0     1   4        0        6           0   \n",
       "5        6  2011-01-01       1   0     1   5        0        6           0   \n",
       "6        7  2011-01-01       1   0     1   6        0        6           0   \n",
       "7        8  2011-01-01       1   0     1   7        0        6           0   \n",
       "8        9  2011-01-01       1   0     1   8        0        6           0   \n",
       "9       10  2011-01-01       1   0     1   9        0        6           0   \n",
       "\n",
       "   weathersit  temp   atemp   hum  windspeed  casual  registered  cnt  \n",
       "0           1  0.24  0.2879  0.81     0.0000       3          13   16  \n",
       "1           1  0.22  0.2727  0.80     0.0000       8          32   40  \n",
       "2           1  0.22  0.2727  0.80     0.0000       5          27   32  \n",
       "3           1  0.24  0.2879  0.75     0.0000       3          10   13  \n",
       "4           1  0.24  0.2879  0.75     0.0000       0           1    1  \n",
       "5           2  0.24  0.2576  0.75     0.0896       0           1    1  \n",
       "6           1  0.22  0.2727  0.80     0.0000       2           0    2  \n",
       "7           1  0.20  0.2576  0.86     0.0000       1           2    3  \n",
       "8           1  0.24  0.2879  0.75     0.0000       1           7    8  \n",
       "9           1  0.32  0.3485  0.76     0.0000       8           6   14  "
      ]
     },
     "execution_count": 64,
     "metadata": {},
     "output_type": "execute_result"
    }
   ],
   "source": [
    "# Look at first 10 records in the data frane\n",
    "df.head(10)"
   ]
  },
  {
   "cell_type": "code",
   "execution_count": 65,
   "metadata": {
    "colab": {
     "base_uri": "https://localhost:8080/"
    },
    "executionInfo": {
     "elapsed": 7,
     "status": "ok",
     "timestamp": 1741982010087,
     "user": {
      "displayName": "Daniel Iversen",
      "userId": "04843677771367093898"
     },
     "user_tz": -60
    },
    "id": "QIYW8ljqFvCM",
    "outputId": "816749ac-b1e7-47ed-d87c-a066b48e3d54"
   },
   "outputs": [
    {
     "name": "stdout",
     "output_type": "stream",
     "text": [
      "<class 'pandas.core.frame.DataFrame'>\n",
      "RangeIndex: 17379 entries, 0 to 17378\n",
      "Data columns (total 17 columns):\n",
      " #   Column      Non-Null Count  Dtype  \n",
      "---  ------      --------------  -----  \n",
      " 0   instant     17379 non-null  int64  \n",
      " 1   dteday      17379 non-null  object \n",
      " 2   season      17379 non-null  int64  \n",
      " 3   yr          17379 non-null  int64  \n",
      " 4   mnth        17379 non-null  int64  \n",
      " 5   hr          17379 non-null  int64  \n",
      " 6   holiday     17379 non-null  int64  \n",
      " 7   weekday     17379 non-null  int64  \n",
      " 8   workingday  17379 non-null  int64  \n",
      " 9   weathersit  17379 non-null  int64  \n",
      " 10  temp        17379 non-null  float64\n",
      " 11  atemp       17379 non-null  float64\n",
      " 12  hum         17379 non-null  float64\n",
      " 13  windspeed   17379 non-null  float64\n",
      " 14  casual      17379 non-null  int64  \n",
      " 15  registered  17379 non-null  int64  \n",
      " 16  cnt         17379 non-null  int64  \n",
      "dtypes: float64(4), int64(12), object(1)\n",
      "memory usage: 2.3+ MB\n"
     ]
    }
   ],
   "source": [
    "df.info()"
   ]
  },
  {
   "cell_type": "markdown",
   "metadata": {
    "id": "KGgzXV6ZGEx-"
   },
   "source": [
    "No missing values in this data, so no need to do cleaning/transformation for now"
   ]
  },
  {
   "cell_type": "code",
   "execution_count": 66,
   "metadata": {
    "colab": {
     "base_uri": "https://localhost:8080/",
     "height": 320
    },
    "executionInfo": {
     "elapsed": 100,
     "status": "ok",
     "timestamp": 1741982010201,
     "user": {
      "displayName": "Daniel Iversen",
      "userId": "04843677771367093898"
     },
     "user_tz": -60
    },
    "id": "kl2ZVgBXFqHg",
    "outputId": "cfb7150a-c30f-4603-e5bb-d1b5590838f4"
   },
   "outputs": [
    {
     "data": {
      "text/html": [
       "<div>\n",
       "<style scoped>\n",
       "    .dataframe tbody tr th:only-of-type {\n",
       "        vertical-align: middle;\n",
       "    }\n",
       "\n",
       "    .dataframe tbody tr th {\n",
       "        vertical-align: top;\n",
       "    }\n",
       "\n",
       "    .dataframe thead th {\n",
       "        text-align: right;\n",
       "    }\n",
       "</style>\n",
       "<table border=\"1\" class=\"dataframe\">\n",
       "  <thead>\n",
       "    <tr style=\"text-align: right;\">\n",
       "      <th></th>\n",
       "      <th>instant</th>\n",
       "      <th>season</th>\n",
       "      <th>yr</th>\n",
       "      <th>mnth</th>\n",
       "      <th>hr</th>\n",
       "      <th>holiday</th>\n",
       "      <th>weekday</th>\n",
       "      <th>workingday</th>\n",
       "      <th>weathersit</th>\n",
       "      <th>temp</th>\n",
       "      <th>atemp</th>\n",
       "      <th>hum</th>\n",
       "      <th>windspeed</th>\n",
       "      <th>casual</th>\n",
       "      <th>registered</th>\n",
       "      <th>cnt</th>\n",
       "    </tr>\n",
       "  </thead>\n",
       "  <tbody>\n",
       "    <tr>\n",
       "      <th>count</th>\n",
       "      <td>17379.0000</td>\n",
       "      <td>17379.000000</td>\n",
       "      <td>17379.000000</td>\n",
       "      <td>17379.000000</td>\n",
       "      <td>17379.000000</td>\n",
       "      <td>17379.000000</td>\n",
       "      <td>17379.000000</td>\n",
       "      <td>17379.000000</td>\n",
       "      <td>17379.000000</td>\n",
       "      <td>17379.000000</td>\n",
       "      <td>17379.000000</td>\n",
       "      <td>17379.000000</td>\n",
       "      <td>17379.000000</td>\n",
       "      <td>17379.000000</td>\n",
       "      <td>17379.000000</td>\n",
       "      <td>17379.000000</td>\n",
       "    </tr>\n",
       "    <tr>\n",
       "      <th>mean</th>\n",
       "      <td>8690.0000</td>\n",
       "      <td>2.501640</td>\n",
       "      <td>0.502561</td>\n",
       "      <td>6.537775</td>\n",
       "      <td>11.546752</td>\n",
       "      <td>0.028770</td>\n",
       "      <td>3.003683</td>\n",
       "      <td>0.682721</td>\n",
       "      <td>1.425283</td>\n",
       "      <td>0.496987</td>\n",
       "      <td>0.475775</td>\n",
       "      <td>0.627229</td>\n",
       "      <td>0.190098</td>\n",
       "      <td>35.676218</td>\n",
       "      <td>153.786869</td>\n",
       "      <td>189.463088</td>\n",
       "    </tr>\n",
       "    <tr>\n",
       "      <th>std</th>\n",
       "      <td>5017.0295</td>\n",
       "      <td>1.106918</td>\n",
       "      <td>0.500008</td>\n",
       "      <td>3.438776</td>\n",
       "      <td>6.914405</td>\n",
       "      <td>0.167165</td>\n",
       "      <td>2.005771</td>\n",
       "      <td>0.465431</td>\n",
       "      <td>0.639357</td>\n",
       "      <td>0.192556</td>\n",
       "      <td>0.171850</td>\n",
       "      <td>0.192930</td>\n",
       "      <td>0.122340</td>\n",
       "      <td>49.305030</td>\n",
       "      <td>151.357286</td>\n",
       "      <td>181.387599</td>\n",
       "    </tr>\n",
       "    <tr>\n",
       "      <th>min</th>\n",
       "      <td>1.0000</td>\n",
       "      <td>1.000000</td>\n",
       "      <td>0.000000</td>\n",
       "      <td>1.000000</td>\n",
       "      <td>0.000000</td>\n",
       "      <td>0.000000</td>\n",
       "      <td>0.000000</td>\n",
       "      <td>0.000000</td>\n",
       "      <td>1.000000</td>\n",
       "      <td>0.020000</td>\n",
       "      <td>0.000000</td>\n",
       "      <td>0.000000</td>\n",
       "      <td>0.000000</td>\n",
       "      <td>0.000000</td>\n",
       "      <td>0.000000</td>\n",
       "      <td>1.000000</td>\n",
       "    </tr>\n",
       "    <tr>\n",
       "      <th>25%</th>\n",
       "      <td>4345.5000</td>\n",
       "      <td>2.000000</td>\n",
       "      <td>0.000000</td>\n",
       "      <td>4.000000</td>\n",
       "      <td>6.000000</td>\n",
       "      <td>0.000000</td>\n",
       "      <td>1.000000</td>\n",
       "      <td>0.000000</td>\n",
       "      <td>1.000000</td>\n",
       "      <td>0.340000</td>\n",
       "      <td>0.333300</td>\n",
       "      <td>0.480000</td>\n",
       "      <td>0.104500</td>\n",
       "      <td>4.000000</td>\n",
       "      <td>34.000000</td>\n",
       "      <td>40.000000</td>\n",
       "    </tr>\n",
       "    <tr>\n",
       "      <th>50%</th>\n",
       "      <td>8690.0000</td>\n",
       "      <td>3.000000</td>\n",
       "      <td>1.000000</td>\n",
       "      <td>7.000000</td>\n",
       "      <td>12.000000</td>\n",
       "      <td>0.000000</td>\n",
       "      <td>3.000000</td>\n",
       "      <td>1.000000</td>\n",
       "      <td>1.000000</td>\n",
       "      <td>0.500000</td>\n",
       "      <td>0.484800</td>\n",
       "      <td>0.630000</td>\n",
       "      <td>0.194000</td>\n",
       "      <td>17.000000</td>\n",
       "      <td>115.000000</td>\n",
       "      <td>142.000000</td>\n",
       "    </tr>\n",
       "    <tr>\n",
       "      <th>75%</th>\n",
       "      <td>13034.5000</td>\n",
       "      <td>3.000000</td>\n",
       "      <td>1.000000</td>\n",
       "      <td>10.000000</td>\n",
       "      <td>18.000000</td>\n",
       "      <td>0.000000</td>\n",
       "      <td>5.000000</td>\n",
       "      <td>1.000000</td>\n",
       "      <td>2.000000</td>\n",
       "      <td>0.660000</td>\n",
       "      <td>0.621200</td>\n",
       "      <td>0.780000</td>\n",
       "      <td>0.253700</td>\n",
       "      <td>48.000000</td>\n",
       "      <td>220.000000</td>\n",
       "      <td>281.000000</td>\n",
       "    </tr>\n",
       "    <tr>\n",
       "      <th>max</th>\n",
       "      <td>17379.0000</td>\n",
       "      <td>4.000000</td>\n",
       "      <td>1.000000</td>\n",
       "      <td>12.000000</td>\n",
       "      <td>23.000000</td>\n",
       "      <td>1.000000</td>\n",
       "      <td>6.000000</td>\n",
       "      <td>1.000000</td>\n",
       "      <td>4.000000</td>\n",
       "      <td>1.000000</td>\n",
       "      <td>1.000000</td>\n",
       "      <td>1.000000</td>\n",
       "      <td>0.850700</td>\n",
       "      <td>367.000000</td>\n",
       "      <td>886.000000</td>\n",
       "      <td>977.000000</td>\n",
       "    </tr>\n",
       "  </tbody>\n",
       "</table>\n",
       "</div>"
      ],
      "text/plain": [
       "          instant        season            yr          mnth            hr  \\\n",
       "count  17379.0000  17379.000000  17379.000000  17379.000000  17379.000000   \n",
       "mean    8690.0000      2.501640      0.502561      6.537775     11.546752   \n",
       "std     5017.0295      1.106918      0.500008      3.438776      6.914405   \n",
       "min        1.0000      1.000000      0.000000      1.000000      0.000000   \n",
       "25%     4345.5000      2.000000      0.000000      4.000000      6.000000   \n",
       "50%     8690.0000      3.000000      1.000000      7.000000     12.000000   \n",
       "75%    13034.5000      3.000000      1.000000     10.000000     18.000000   \n",
       "max    17379.0000      4.000000      1.000000     12.000000     23.000000   \n",
       "\n",
       "            holiday       weekday    workingday    weathersit          temp  \\\n",
       "count  17379.000000  17379.000000  17379.000000  17379.000000  17379.000000   \n",
       "mean       0.028770      3.003683      0.682721      1.425283      0.496987   \n",
       "std        0.167165      2.005771      0.465431      0.639357      0.192556   \n",
       "min        0.000000      0.000000      0.000000      1.000000      0.020000   \n",
       "25%        0.000000      1.000000      0.000000      1.000000      0.340000   \n",
       "50%        0.000000      3.000000      1.000000      1.000000      0.500000   \n",
       "75%        0.000000      5.000000      1.000000      2.000000      0.660000   \n",
       "max        1.000000      6.000000      1.000000      4.000000      1.000000   \n",
       "\n",
       "              atemp           hum     windspeed        casual    registered  \\\n",
       "count  17379.000000  17379.000000  17379.000000  17379.000000  17379.000000   \n",
       "mean       0.475775      0.627229      0.190098     35.676218    153.786869   \n",
       "std        0.171850      0.192930      0.122340     49.305030    151.357286   \n",
       "min        0.000000      0.000000      0.000000      0.000000      0.000000   \n",
       "25%        0.333300      0.480000      0.104500      4.000000     34.000000   \n",
       "50%        0.484800      0.630000      0.194000     17.000000    115.000000   \n",
       "75%        0.621200      0.780000      0.253700     48.000000    220.000000   \n",
       "max        1.000000      1.000000      0.850700    367.000000    886.000000   \n",
       "\n",
       "                cnt  \n",
       "count  17379.000000  \n",
       "mean     189.463088  \n",
       "std      181.387599  \n",
       "min        1.000000  \n",
       "25%       40.000000  \n",
       "50%      142.000000  \n",
       "75%      281.000000  \n",
       "max      977.000000  "
      ]
     },
     "execution_count": 66,
     "metadata": {},
     "output_type": "execute_result"
    }
   ],
   "source": [
    "# Use this to ensure there are no absurd outliers before beginning analysis\n",
    "df.describe()"
   ]
  },
  {
   "cell_type": "markdown",
   "metadata": {
    "id": "tgcr-AKFFt-v"
   },
   "source": [
    "There seem to be no extreme outliers in this data, so we proceed to analysis."
   ]
  },
  {
   "cell_type": "markdown",
   "metadata": {
    "id": "ek5uwO9mGX-M"
   },
   "source": [
    "---"
   ]
  },
  {
   "cell_type": "markdown",
   "metadata": {
    "id": "5h_--ybCGxjX"
   },
   "source": [
    "### Task 4 from TSA_task:\n",
    "\n",
    "* Create the lag and rolling windows features for the \"cnt\" column such as: 1 day lag, 1 week lag, 1 month, etc. and last 3 day rolling"
   ]
  },
  {
   "cell_type": "markdown",
   "metadata": {
    "id": "LAhQTjgVIXbS"
   },
   "source": [
    "A 'lag' is a when a data record is shifted to a previous time step, it makes it possible to describe the history of records in the data, enabling time based analysis. Lets add the lag features of 1 day, 1 wekk and 1 month to the dataframe."
   ]
  },
  {
   "cell_type": "code",
   "execution_count": 67,
   "metadata": {
    "executionInfo": {
     "elapsed": 5,
     "status": "ok",
     "timestamp": 1741982010206,
     "user": {
      "displayName": "Daniel Iversen",
      "userId": "04843677771367093898"
     },
     "user_tz": -60
    },
    "id": "f5z0CLtvJHOq"
   },
   "outputs": [],
   "source": [
    "# Making lag features for the 'cnt' feature, trying to make the bike rental history easier to read\n",
    "df['cnt_lag_1d'] = df['cnt'].shift(24)  # 1 day)\n",
    "df['cnt_lag_1w'] = df['cnt'].shift(24 * 7)  # 1 week\n",
    "df['cnt_lag_1m'] = df['cnt'].shift(24 * 30)  # 1 month"
   ]
  },
  {
   "cell_type": "code",
   "execution_count": 68,
   "metadata": {},
   "outputs": [],
   "source": [
    "# Create rolling window features for 'cnt'\n",
    "df['roll_mean_3h']  = df['cnt'].rolling(window=3).mean()    # Last 3 hours rolling mean\n",
    "df['roll_mean_3d']  = df['cnt'].rolling(window=72).mean()     # Last 3 days rolling mean (72 hours)"
   ]
  },
  {
   "cell_type": "markdown",
   "metadata": {
    "id": "P2dSx5yoKAG4"
   },
   "source": [
    "A rolling window feature calculates a mean sum over a specified window of time"
   ]
  },
  {
   "cell_type": "code",
   "execution_count": 69,
   "metadata": {
    "executionInfo": {
     "elapsed": 1,
     "status": "ok",
     "timestamp": 1741982010207,
     "user": {
      "displayName": "Daniel Iversen",
      "userId": "04843677771367093898"
     },
     "user_tz": -60
    },
    "id": "OMWmTrfqKHzk"
   },
   "outputs": [],
   "source": [
    "# lets make a window of 3 days\n",
    "df['cnt_roll_3d'] = df['cnt'].rolling(window=24 * 3, min_periods=1).mean()"
   ]
  },
  {
   "cell_type": "markdown",
   "metadata": {
    "id": "LUJLq-DOKRsP"
   },
   "source": [
    "Lets take a look at our new features to see if they seem useful"
   ]
  },
  {
   "cell_type": "code",
   "execution_count": 70,
   "metadata": {
    "colab": {
     "base_uri": "https://localhost:8080/",
     "height": 586
    },
    "executionInfo": {
     "elapsed": 318,
     "status": "ok",
     "timestamp": 1741982010525,
     "user": {
      "displayName": "Daniel Iversen",
      "userId": "04843677771367093898"
     },
     "user_tz": -60
    },
    "id": "6bGZpzB_KWKC",
    "outputId": "6e4a4224-32f7-4ba5-bd43-eccdceda4539"
   },
   "outputs": [
    {
     "data": {
      "text/html": [
       "<div>\n",
       "<style scoped>\n",
       "    .dataframe tbody tr th:only-of-type {\n",
       "        vertical-align: middle;\n",
       "    }\n",
       "\n",
       "    .dataframe tbody tr th {\n",
       "        vertical-align: top;\n",
       "    }\n",
       "\n",
       "    .dataframe thead th {\n",
       "        text-align: right;\n",
       "    }\n",
       "</style>\n",
       "<table border=\"1\" class=\"dataframe\">\n",
       "  <thead>\n",
       "    <tr style=\"text-align: right;\">\n",
       "      <th></th>\n",
       "      <th>instant</th>\n",
       "      <th>dteday</th>\n",
       "      <th>season</th>\n",
       "      <th>yr</th>\n",
       "      <th>mnth</th>\n",
       "      <th>hr</th>\n",
       "      <th>holiday</th>\n",
       "      <th>weekday</th>\n",
       "      <th>workingday</th>\n",
       "      <th>weathersit</th>\n",
       "      <th>...</th>\n",
       "      <th>windspeed</th>\n",
       "      <th>casual</th>\n",
       "      <th>registered</th>\n",
       "      <th>cnt</th>\n",
       "      <th>cnt_lag_1d</th>\n",
       "      <th>cnt_lag_1w</th>\n",
       "      <th>cnt_lag_1m</th>\n",
       "      <th>roll_mean_3h</th>\n",
       "      <th>roll_mean_3d</th>\n",
       "      <th>cnt_roll_3d</th>\n",
       "    </tr>\n",
       "  </thead>\n",
       "  <tbody>\n",
       "    <tr>\n",
       "      <th>1889</th>\n",
       "      <td>1890</td>\n",
       "      <td>2011-03-24</td>\n",
       "      <td>2</td>\n",
       "      <td>0</td>\n",
       "      <td>3</td>\n",
       "      <td>12</td>\n",
       "      <td>0</td>\n",
       "      <td>4</td>\n",
       "      <td>1</td>\n",
       "      <td>2</td>\n",
       "      <td>...</td>\n",
       "      <td>0.3284</td>\n",
       "      <td>12</td>\n",
       "      <td>82</td>\n",
       "      <td>94</td>\n",
       "      <td>87.0</td>\n",
       "      <td>185.0</td>\n",
       "      <td>93.0</td>\n",
       "      <td>76.666667</td>\n",
       "      <td>98.430556</td>\n",
       "      <td>98.430556</td>\n",
       "    </tr>\n",
       "    <tr>\n",
       "      <th>11651</th>\n",
       "      <td>11652</td>\n",
       "      <td>2012-05-05</td>\n",
       "      <td>2</td>\n",
       "      <td>1</td>\n",
       "      <td>5</td>\n",
       "      <td>16</td>\n",
       "      <td>0</td>\n",
       "      <td>6</td>\n",
       "      <td>0</td>\n",
       "      <td>2</td>\n",
       "      <td>...</td>\n",
       "      <td>0.3881</td>\n",
       "      <td>230</td>\n",
       "      <td>310</td>\n",
       "      <td>540</td>\n",
       "      <td>440.0</td>\n",
       "      <td>376.0</td>\n",
       "      <td>269.0</td>\n",
       "      <td>503.000000</td>\n",
       "      <td>280.680556</td>\n",
       "      <td>280.680556</td>\n",
       "    </tr>\n",
       "    <tr>\n",
       "      <th>12805</th>\n",
       "      <td>12806</td>\n",
       "      <td>2012-06-22</td>\n",
       "      <td>3</td>\n",
       "      <td>1</td>\n",
       "      <td>6</td>\n",
       "      <td>18</td>\n",
       "      <td>0</td>\n",
       "      <td>5</td>\n",
       "      <td>1</td>\n",
       "      <td>2</td>\n",
       "      <td>...</td>\n",
       "      <td>0.1940</td>\n",
       "      <td>62</td>\n",
       "      <td>443</td>\n",
       "      <td>505</td>\n",
       "      <td>640.0</td>\n",
       "      <td>693.0</td>\n",
       "      <td>327.0</td>\n",
       "      <td>510.333333</td>\n",
       "      <td>256.263889</td>\n",
       "      <td>256.263889</td>\n",
       "    </tr>\n",
       "    <tr>\n",
       "      <th>8143</th>\n",
       "      <td>8144</td>\n",
       "      <td>2011-12-10</td>\n",
       "      <td>4</td>\n",
       "      <td>0</td>\n",
       "      <td>12</td>\n",
       "      <td>23</td>\n",
       "      <td>0</td>\n",
       "      <td>6</td>\n",
       "      <td>0</td>\n",
       "      <td>1</td>\n",
       "      <td>...</td>\n",
       "      <td>0.1642</td>\n",
       "      <td>5</td>\n",
       "      <td>61</td>\n",
       "      <td>66</td>\n",
       "      <td>94.0</td>\n",
       "      <td>85.0</td>\n",
       "      <td>89.0</td>\n",
       "      <td>81.333333</td>\n",
       "      <td>140.722222</td>\n",
       "      <td>140.722222</td>\n",
       "    </tr>\n",
       "    <tr>\n",
       "      <th>14781</th>\n",
       "      <td>14782</td>\n",
       "      <td>2012-09-13</td>\n",
       "      <td>3</td>\n",
       "      <td>1</td>\n",
       "      <td>9</td>\n",
       "      <td>2</td>\n",
       "      <td>0</td>\n",
       "      <td>4</td>\n",
       "      <td>1</td>\n",
       "      <td>1</td>\n",
       "      <td>...</td>\n",
       "      <td>0.0000</td>\n",
       "      <td>0</td>\n",
       "      <td>9</td>\n",
       "      <td>9</td>\n",
       "      <td>11.0</td>\n",
       "      <td>8.0</td>\n",
       "      <td>11.0</td>\n",
       "      <td>31.333333</td>\n",
       "      <td>321.944444</td>\n",
       "      <td>321.944444</td>\n",
       "    </tr>\n",
       "    <tr>\n",
       "      <th>16730</th>\n",
       "      <td>16731</td>\n",
       "      <td>2012-12-04</td>\n",
       "      <td>4</td>\n",
       "      <td>1</td>\n",
       "      <td>12</td>\n",
       "      <td>21</td>\n",
       "      <td>0</td>\n",
       "      <td>2</td>\n",
       "      <td>1</td>\n",
       "      <td>2</td>\n",
       "      <td>...</td>\n",
       "      <td>0.2537</td>\n",
       "      <td>28</td>\n",
       "      <td>252</td>\n",
       "      <td>280</td>\n",
       "      <td>221.0</td>\n",
       "      <td>232.0</td>\n",
       "      <td>227.0</td>\n",
       "      <td>348.666667</td>\n",
       "      <td>242.847222</td>\n",
       "      <td>242.847222</td>\n",
       "    </tr>\n",
       "    <tr>\n",
       "      <th>6718</th>\n",
       "      <td>6719</td>\n",
       "      <td>2011-10-12</td>\n",
       "      <td>4</td>\n",
       "      <td>0</td>\n",
       "      <td>10</td>\n",
       "      <td>12</td>\n",
       "      <td>0</td>\n",
       "      <td>3</td>\n",
       "      <td>1</td>\n",
       "      <td>3</td>\n",
       "      <td>...</td>\n",
       "      <td>0.3284</td>\n",
       "      <td>9</td>\n",
       "      <td>53</td>\n",
       "      <td>62</td>\n",
       "      <td>181.0</td>\n",
       "      <td>214.0</td>\n",
       "      <td>184.0</td>\n",
       "      <td>98.333333</td>\n",
       "      <td>202.847222</td>\n",
       "      <td>202.847222</td>\n",
       "    </tr>\n",
       "    <tr>\n",
       "      <th>7921</th>\n",
       "      <td>7922</td>\n",
       "      <td>2011-12-01</td>\n",
       "      <td>4</td>\n",
       "      <td>0</td>\n",
       "      <td>12</td>\n",
       "      <td>17</td>\n",
       "      <td>0</td>\n",
       "      <td>4</td>\n",
       "      <td>1</td>\n",
       "      <td>1</td>\n",
       "      <td>...</td>\n",
       "      <td>0.1343</td>\n",
       "      <td>9</td>\n",
       "      <td>409</td>\n",
       "      <td>418</td>\n",
       "      <td>380.0</td>\n",
       "      <td>114.0</td>\n",
       "      <td>298.0</td>\n",
       "      <td>257.666667</td>\n",
       "      <td>143.069444</td>\n",
       "      <td>143.069444</td>\n",
       "    </tr>\n",
       "    <tr>\n",
       "      <th>4599</th>\n",
       "      <td>4600</td>\n",
       "      <td>2011-07-15</td>\n",
       "      <td>3</td>\n",
       "      <td>0</td>\n",
       "      <td>7</td>\n",
       "      <td>13</td>\n",
       "      <td>0</td>\n",
       "      <td>5</td>\n",
       "      <td>1</td>\n",
       "      <td>1</td>\n",
       "      <td>...</td>\n",
       "      <td>0.1940</td>\n",
       "      <td>85</td>\n",
       "      <td>162</td>\n",
       "      <td>247</td>\n",
       "      <td>177.0</td>\n",
       "      <td>229.0</td>\n",
       "      <td>189.0</td>\n",
       "      <td>231.666667</td>\n",
       "      <td>197.486111</td>\n",
       "      <td>197.486111</td>\n",
       "    </tr>\n",
       "    <tr>\n",
       "      <th>13098</th>\n",
       "      <td>13099</td>\n",
       "      <td>2012-07-04</td>\n",
       "      <td>3</td>\n",
       "      <td>1</td>\n",
       "      <td>7</td>\n",
       "      <td>23</td>\n",
       "      <td>1</td>\n",
       "      <td>3</td>\n",
       "      <td>0</td>\n",
       "      <td>2</td>\n",
       "      <td>...</td>\n",
       "      <td>0.0896</td>\n",
       "      <td>31</td>\n",
       "      <td>152</td>\n",
       "      <td>183</td>\n",
       "      <td>171.0</td>\n",
       "      <td>159.0</td>\n",
       "      <td>86.0</td>\n",
       "      <td>423.000000</td>\n",
       "      <td>281.805556</td>\n",
       "      <td>281.805556</td>\n",
       "    </tr>\n",
       "  </tbody>\n",
       "</table>\n",
       "<p>10 rows × 23 columns</p>\n",
       "</div>"
      ],
      "text/plain": [
       "       instant      dteday  season  yr  mnth  hr  holiday  weekday  \\\n",
       "1889      1890  2011-03-24       2   0     3  12        0        4   \n",
       "11651    11652  2012-05-05       2   1     5  16        0        6   \n",
       "12805    12806  2012-06-22       3   1     6  18        0        5   \n",
       "8143      8144  2011-12-10       4   0    12  23        0        6   \n",
       "14781    14782  2012-09-13       3   1     9   2        0        4   \n",
       "16730    16731  2012-12-04       4   1    12  21        0        2   \n",
       "6718      6719  2011-10-12       4   0    10  12        0        3   \n",
       "7921      7922  2011-12-01       4   0    12  17        0        4   \n",
       "4599      4600  2011-07-15       3   0     7  13        0        5   \n",
       "13098    13099  2012-07-04       3   1     7  23        1        3   \n",
       "\n",
       "       workingday  weathersit  ...  windspeed  casual  registered  cnt  \\\n",
       "1889            1           2  ...     0.3284      12          82   94   \n",
       "11651           0           2  ...     0.3881     230         310  540   \n",
       "12805           1           2  ...     0.1940      62         443  505   \n",
       "8143            0           1  ...     0.1642       5          61   66   \n",
       "14781           1           1  ...     0.0000       0           9    9   \n",
       "16730           1           2  ...     0.2537      28         252  280   \n",
       "6718            1           3  ...     0.3284       9          53   62   \n",
       "7921            1           1  ...     0.1343       9         409  418   \n",
       "4599            1           1  ...     0.1940      85         162  247   \n",
       "13098           0           2  ...     0.0896      31         152  183   \n",
       "\n",
       "       cnt_lag_1d  cnt_lag_1w  cnt_lag_1m  roll_mean_3h  roll_mean_3d  \\\n",
       "1889         87.0       185.0        93.0     76.666667     98.430556   \n",
       "11651       440.0       376.0       269.0    503.000000    280.680556   \n",
       "12805       640.0       693.0       327.0    510.333333    256.263889   \n",
       "8143         94.0        85.0        89.0     81.333333    140.722222   \n",
       "14781        11.0         8.0        11.0     31.333333    321.944444   \n",
       "16730       221.0       232.0       227.0    348.666667    242.847222   \n",
       "6718        181.0       214.0       184.0     98.333333    202.847222   \n",
       "7921        380.0       114.0       298.0    257.666667    143.069444   \n",
       "4599        177.0       229.0       189.0    231.666667    197.486111   \n",
       "13098       171.0       159.0        86.0    423.000000    281.805556   \n",
       "\n",
       "       cnt_roll_3d  \n",
       "1889     98.430556  \n",
       "11651   280.680556  \n",
       "12805   256.263889  \n",
       "8143    140.722222  \n",
       "14781   321.944444  \n",
       "16730   242.847222  \n",
       "6718    202.847222  \n",
       "7921    143.069444  \n",
       "4599    197.486111  \n",
       "13098   281.805556  \n",
       "\n",
       "[10 rows x 23 columns]"
      ]
     },
     "execution_count": 70,
     "metadata": {},
     "output_type": "execute_result"
    }
   ],
   "source": [
    "# Using data sample instead of data head here, as first few values will always be NaN since there are no previous data to calculate result from\n",
    "df.sample(10)"
   ]
  },
  {
   "cell_type": "markdown",
   "metadata": {
    "id": "FptISsD8LERi"
   },
   "source": [
    "Makes it very conveniet to analyse variables like sales or rentals overtime"
   ]
  },
  {
   "cell_type": "markdown",
   "metadata": {
    "id": "BqPu3Fj0LMRq"
   },
   "source": [
    "---"
   ]
  },
  {
   "cell_type": "markdown",
   "metadata": {
    "id": "1e4Qcf3pLNL8"
   },
   "source": [
    "### Task 6 from TSA_task:\n",
    "\n",
    "* Implement XGBoost to predict how many bikes will be rented each hour of the last week and evaluate using appropriate metrics."
   ]
  },
  {
   "cell_type": "markdown",
   "metadata": {
    "id": "_qIE5vpGMAmW"
   },
   "source": [
    "To accomplish this task and train a XGBoost model, we must first make sure the data includes the following:\n",
    "\n",
    "* Convert dteday to datetime format\n",
    "* Create features 'hour', 'day', 'weekday', 'month' and 'year'\n",
    "* Make a train/test split on the data"
   ]
  },
  {
   "cell_type": "code",
   "execution_count": 71,
   "metadata": {
    "colab": {
     "base_uri": "https://localhost:8080/",
     "height": 586
    },
    "executionInfo": {
     "elapsed": 64,
     "status": "ok",
     "timestamp": 1741982010590,
     "user": {
      "displayName": "Daniel Iversen",
      "userId": "04843677771367093898"
     },
     "user_tz": -60
    },
    "id": "iook5CESMmUY",
    "outputId": "8472c8ac-c461-4c29-88e8-344e55c3bff3"
   },
   "outputs": [
    {
     "data": {
      "text/html": [
       "<div>\n",
       "<style scoped>\n",
       "    .dataframe tbody tr th:only-of-type {\n",
       "        vertical-align: middle;\n",
       "    }\n",
       "\n",
       "    .dataframe tbody tr th {\n",
       "        vertical-align: top;\n",
       "    }\n",
       "\n",
       "    .dataframe thead th {\n",
       "        text-align: right;\n",
       "    }\n",
       "</style>\n",
       "<table border=\"1\" class=\"dataframe\">\n",
       "  <thead>\n",
       "    <tr style=\"text-align: right;\">\n",
       "      <th></th>\n",
       "      <th>instant</th>\n",
       "      <th>dteday</th>\n",
       "      <th>season</th>\n",
       "      <th>yr</th>\n",
       "      <th>mnth</th>\n",
       "      <th>hr</th>\n",
       "      <th>holiday</th>\n",
       "      <th>weekday</th>\n",
       "      <th>workingday</th>\n",
       "      <th>weathersit</th>\n",
       "      <th>...</th>\n",
       "      <th>cnt_lag_1d</th>\n",
       "      <th>cnt_lag_1w</th>\n",
       "      <th>cnt_lag_1m</th>\n",
       "      <th>roll_mean_3h</th>\n",
       "      <th>roll_mean_3d</th>\n",
       "      <th>cnt_roll_3d</th>\n",
       "      <th>hour</th>\n",
       "      <th>day</th>\n",
       "      <th>month</th>\n",
       "      <th>year</th>\n",
       "    </tr>\n",
       "  </thead>\n",
       "  <tbody>\n",
       "    <tr>\n",
       "      <th>10107</th>\n",
       "      <td>10108</td>\n",
       "      <td>2012-03-02</td>\n",
       "      <td>1</td>\n",
       "      <td>1</td>\n",
       "      <td>3</td>\n",
       "      <td>5</td>\n",
       "      <td>0</td>\n",
       "      <td>4</td>\n",
       "      <td>1</td>\n",
       "      <td>1</td>\n",
       "      <td>...</td>\n",
       "      <td>18.0</td>\n",
       "      <td>2.0</td>\n",
       "      <td>4.0</td>\n",
       "      <td>9.666667</td>\n",
       "      <td>156.402778</td>\n",
       "      <td>156.402778</td>\n",
       "      <td>5</td>\n",
       "      <td>2</td>\n",
       "      <td>3</td>\n",
       "      <td>2012</td>\n",
       "    </tr>\n",
       "    <tr>\n",
       "      <th>597</th>\n",
       "      <td>598</td>\n",
       "      <td>2011-01-28</td>\n",
       "      <td>1</td>\n",
       "      <td>0</td>\n",
       "      <td>1</td>\n",
       "      <td>2</td>\n",
       "      <td>0</td>\n",
       "      <td>4</td>\n",
       "      <td>1</td>\n",
       "      <td>2</td>\n",
       "      <td>...</td>\n",
       "      <td>10.0</td>\n",
       "      <td>59.0</td>\n",
       "      <td>NaN</td>\n",
       "      <td>4.666667</td>\n",
       "      <td>60.347222</td>\n",
       "      <td>60.347222</td>\n",
       "      <td>2</td>\n",
       "      <td>28</td>\n",
       "      <td>1</td>\n",
       "      <td>2011</td>\n",
       "    </tr>\n",
       "    <tr>\n",
       "      <th>13078</th>\n",
       "      <td>13079</td>\n",
       "      <td>2012-07-04</td>\n",
       "      <td>3</td>\n",
       "      <td>1</td>\n",
       "      <td>7</td>\n",
       "      <td>3</td>\n",
       "      <td>1</td>\n",
       "      <td>2</td>\n",
       "      <td>0</td>\n",
       "      <td>1</td>\n",
       "      <td>...</td>\n",
       "      <td>2.0</td>\n",
       "      <td>8.0</td>\n",
       "      <td>5.0</td>\n",
       "      <td>82.666667</td>\n",
       "      <td>256.388889</td>\n",
       "      <td>256.388889</td>\n",
       "      <td>3</td>\n",
       "      <td>4</td>\n",
       "      <td>7</td>\n",
       "      <td>2012</td>\n",
       "    </tr>\n",
       "    <tr>\n",
       "      <th>16907</th>\n",
       "      <td>16908</td>\n",
       "      <td>2012-12-12</td>\n",
       "      <td>4</td>\n",
       "      <td>1</td>\n",
       "      <td>12</td>\n",
       "      <td>6</td>\n",
       "      <td>0</td>\n",
       "      <td>2</td>\n",
       "      <td>1</td>\n",
       "      <td>2</td>\n",
       "      <td>...</td>\n",
       "      <td>118.0</td>\n",
       "      <td>124.0</td>\n",
       "      <td>24.0</td>\n",
       "      <td>56.333333</td>\n",
       "      <td>191.250000</td>\n",
       "      <td>191.250000</td>\n",
       "      <td>6</td>\n",
       "      <td>12</td>\n",
       "      <td>12</td>\n",
       "      <td>2012</td>\n",
       "    </tr>\n",
       "    <tr>\n",
       "      <th>14953</th>\n",
       "      <td>14954</td>\n",
       "      <td>2012-09-20</td>\n",
       "      <td>3</td>\n",
       "      <td>1</td>\n",
       "      <td>9</td>\n",
       "      <td>6</td>\n",
       "      <td>0</td>\n",
       "      <td>3</td>\n",
       "      <td>1</td>\n",
       "      <td>1</td>\n",
       "      <td>...</td>\n",
       "      <td>172.0</td>\n",
       "      <td>195.0</td>\n",
       "      <td>169.0</td>\n",
       "      <td>77.333333</td>\n",
       "      <td>257.666667</td>\n",
       "      <td>257.666667</td>\n",
       "      <td>6</td>\n",
       "      <td>20</td>\n",
       "      <td>9</td>\n",
       "      <td>2012</td>\n",
       "    </tr>\n",
       "    <tr>\n",
       "      <th>12225</th>\n",
       "      <td>12226</td>\n",
       "      <td>2012-05-29</td>\n",
       "      <td>2</td>\n",
       "      <td>1</td>\n",
       "      <td>5</td>\n",
       "      <td>14</td>\n",
       "      <td>0</td>\n",
       "      <td>1</td>\n",
       "      <td>1</td>\n",
       "      <td>1</td>\n",
       "      <td>...</td>\n",
       "      <td>465.0</td>\n",
       "      <td>222.0</td>\n",
       "      <td>653.0</td>\n",
       "      <td>238.000000</td>\n",
       "      <td>256.361111</td>\n",
       "      <td>256.361111</td>\n",
       "      <td>14</td>\n",
       "      <td>29</td>\n",
       "      <td>5</td>\n",
       "      <td>2012</td>\n",
       "    </tr>\n",
       "    <tr>\n",
       "      <th>15568</th>\n",
       "      <td>15569</td>\n",
       "      <td>2012-10-15</td>\n",
       "      <td>4</td>\n",
       "      <td>1</td>\n",
       "      <td>10</td>\n",
       "      <td>21</td>\n",
       "      <td>0</td>\n",
       "      <td>0</td>\n",
       "      <td>1</td>\n",
       "      <td>1</td>\n",
       "      <td>...</td>\n",
       "      <td>196.0</td>\n",
       "      <td>151.0</td>\n",
       "      <td>296.0</td>\n",
       "      <td>233.666667</td>\n",
       "      <td>273.277778</td>\n",
       "      <td>273.277778</td>\n",
       "      <td>21</td>\n",
       "      <td>15</td>\n",
       "      <td>10</td>\n",
       "      <td>2012</td>\n",
       "    </tr>\n",
       "    <tr>\n",
       "      <th>7345</th>\n",
       "      <td>7346</td>\n",
       "      <td>2011-11-07</td>\n",
       "      <td>4</td>\n",
       "      <td>0</td>\n",
       "      <td>11</td>\n",
       "      <td>16</td>\n",
       "      <td>0</td>\n",
       "      <td>0</td>\n",
       "      <td>1</td>\n",
       "      <td>1</td>\n",
       "      <td>...</td>\n",
       "      <td>347.0</td>\n",
       "      <td>272.0</td>\n",
       "      <td>496.0</td>\n",
       "      <td>203.333333</td>\n",
       "      <td>158.625000</td>\n",
       "      <td>158.625000</td>\n",
       "      <td>16</td>\n",
       "      <td>7</td>\n",
       "      <td>11</td>\n",
       "      <td>2011</td>\n",
       "    </tr>\n",
       "    <tr>\n",
       "      <th>1784</th>\n",
       "      <td>1785</td>\n",
       "      <td>2011-03-20</td>\n",
       "      <td>1</td>\n",
       "      <td>0</td>\n",
       "      <td>3</td>\n",
       "      <td>1</td>\n",
       "      <td>0</td>\n",
       "      <td>6</td>\n",
       "      <td>0</td>\n",
       "      <td>1</td>\n",
       "      <td>...</td>\n",
       "      <td>51.0</td>\n",
       "      <td>86.0</td>\n",
       "      <td>6.0</td>\n",
       "      <td>38.000000</td>\n",
       "      <td>126.958333</td>\n",
       "      <td>126.958333</td>\n",
       "      <td>1</td>\n",
       "      <td>20</td>\n",
       "      <td>3</td>\n",
       "      <td>2011</td>\n",
       "    </tr>\n",
       "    <tr>\n",
       "      <th>2513</th>\n",
       "      <td>2514</td>\n",
       "      <td>2011-04-19</td>\n",
       "      <td>2</td>\n",
       "      <td>0</td>\n",
       "      <td>4</td>\n",
       "      <td>15</td>\n",
       "      <td>0</td>\n",
       "      <td>1</td>\n",
       "      <td>1</td>\n",
       "      <td>2</td>\n",
       "      <td>...</td>\n",
       "      <td>176.0</td>\n",
       "      <td>78.0</td>\n",
       "      <td>136.0</td>\n",
       "      <td>121.000000</td>\n",
       "      <td>123.694444</td>\n",
       "      <td>123.694444</td>\n",
       "      <td>15</td>\n",
       "      <td>19</td>\n",
       "      <td>4</td>\n",
       "      <td>2011</td>\n",
       "    </tr>\n",
       "  </tbody>\n",
       "</table>\n",
       "<p>10 rows × 27 columns</p>\n",
       "</div>"
      ],
      "text/plain": [
       "       instant     dteday  season  yr  mnth  hr  holiday  weekday  workingday  \\\n",
       "10107    10108 2012-03-02       1   1     3   5        0        4           1   \n",
       "597        598 2011-01-28       1   0     1   2        0        4           1   \n",
       "13078    13079 2012-07-04       3   1     7   3        1        2           0   \n",
       "16907    16908 2012-12-12       4   1    12   6        0        2           1   \n",
       "14953    14954 2012-09-20       3   1     9   6        0        3           1   \n",
       "12225    12226 2012-05-29       2   1     5  14        0        1           1   \n",
       "15568    15569 2012-10-15       4   1    10  21        0        0           1   \n",
       "7345      7346 2011-11-07       4   0    11  16        0        0           1   \n",
       "1784      1785 2011-03-20       1   0     3   1        0        6           0   \n",
       "2513      2514 2011-04-19       2   0     4  15        0        1           1   \n",
       "\n",
       "       weathersit  ...  cnt_lag_1d  cnt_lag_1w  cnt_lag_1m  roll_mean_3h  \\\n",
       "10107           1  ...        18.0         2.0         4.0      9.666667   \n",
       "597             2  ...        10.0        59.0         NaN      4.666667   \n",
       "13078           1  ...         2.0         8.0         5.0     82.666667   \n",
       "16907           2  ...       118.0       124.0        24.0     56.333333   \n",
       "14953           1  ...       172.0       195.0       169.0     77.333333   \n",
       "12225           1  ...       465.0       222.0       653.0    238.000000   \n",
       "15568           1  ...       196.0       151.0       296.0    233.666667   \n",
       "7345            1  ...       347.0       272.0       496.0    203.333333   \n",
       "1784            1  ...        51.0        86.0         6.0     38.000000   \n",
       "2513            2  ...       176.0        78.0       136.0    121.000000   \n",
       "\n",
       "       roll_mean_3d  cnt_roll_3d  hour  day  month  year  \n",
       "10107    156.402778   156.402778     5    2      3  2012  \n",
       "597       60.347222    60.347222     2   28      1  2011  \n",
       "13078    256.388889   256.388889     3    4      7  2012  \n",
       "16907    191.250000   191.250000     6   12     12  2012  \n",
       "14953    257.666667   257.666667     6   20      9  2012  \n",
       "12225    256.361111   256.361111    14   29      5  2012  \n",
       "15568    273.277778   273.277778    21   15     10  2012  \n",
       "7345     158.625000   158.625000    16    7     11  2011  \n",
       "1784     126.958333   126.958333     1   20      3  2011  \n",
       "2513     123.694444   123.694444    15   19      4  2011  \n",
       "\n",
       "[10 rows x 27 columns]"
      ]
     },
     "execution_count": 71,
     "metadata": {},
     "output_type": "execute_result"
    }
   ],
   "source": [
    "# Convert 'date' to datetime format\n",
    "df['dteday'] = pd.to_datetime(df['dteday'])\n",
    "# Create time-based features\n",
    "df['hour'] = df['hr']\n",
    "df['day'] = df['dteday'].dt.day\n",
    "df['month'] = df['dteday'].dt.month\n",
    "df['year'] = df['dteday'].dt.year\n",
    "df['weekday'] = df['dteday'].dt.weekday  # 0 = Monday, 6 = Sunday\n",
    "# Take a look at the dataframe after adding in the above\n",
    "df.sample(10)"
   ]
  },
  {
   "cell_type": "markdown",
   "metadata": {
    "id": "V3_QJ9nIM2zb"
   },
   "source": [
    "Few preprocessing steps before training the XGBoost model"
   ]
  },
  {
   "cell_type": "code",
   "execution_count": 72,
   "metadata": {
    "colab": {
     "base_uri": "https://localhost:8080/",
     "height": 383
    },
    "executionInfo": {
     "elapsed": 86,
     "status": "ok",
     "timestamp": 1741982010677,
     "user": {
      "displayName": "Daniel Iversen",
      "userId": "04843677771367093898"
     },
     "user_tz": -60
    },
    "id": "TQ-DwF-8N3LE",
    "outputId": "9df894da-85f5-4f89-a91d-8c26c4090e56"
   },
   "outputs": [
    {
     "name": "stdout",
     "output_type": "stream",
     "text": [
      "<class 'pandas.core.frame.DataFrame'>\n",
      "Index: 16659 entries, 720 to 17378\n",
      "Data columns (total 27 columns):\n",
      " #   Column        Non-Null Count  Dtype         \n",
      "---  ------        --------------  -----         \n",
      " 0   instant       16659 non-null  int64         \n",
      " 1   dteday        16659 non-null  datetime64[ns]\n",
      " 2   season        16659 non-null  int64         \n",
      " 3   yr            16659 non-null  int64         \n",
      " 4   mnth          16659 non-null  int64         \n",
      " 5   hr            16659 non-null  int64         \n",
      " 6   holiday       16659 non-null  int64         \n",
      " 7   weekday       16659 non-null  int32         \n",
      " 8   workingday    16659 non-null  int64         \n",
      " 9   weathersit    16659 non-null  int64         \n",
      " 10  temp          16659 non-null  float64       \n",
      " 11  atemp         16659 non-null  float64       \n",
      " 12  hum           16659 non-null  float64       \n",
      " 13  windspeed     16659 non-null  float64       \n",
      " 14  casual        16659 non-null  int64         \n",
      " 15  registered    16659 non-null  int64         \n",
      " 16  cnt           16659 non-null  int64         \n",
      " 17  cnt_lag_1d    16659 non-null  float64       \n",
      " 18  cnt_lag_1w    16659 non-null  float64       \n",
      " 19  cnt_lag_1m    16659 non-null  float64       \n",
      " 20  roll_mean_3h  16659 non-null  float64       \n",
      " 21  roll_mean_3d  16659 non-null  float64       \n",
      " 22  cnt_roll_3d   16659 non-null  float64       \n",
      " 23  hour          16659 non-null  int64         \n",
      " 24  day           16659 non-null  int32         \n",
      " 25  month         16659 non-null  int32         \n",
      " 26  year          16659 non-null  int32         \n",
      "dtypes: datetime64[ns](1), float64(10), int32(4), int64(12)\n",
      "memory usage: 3.3 MB\n",
      "None\n"
     ]
    }
   ],
   "source": [
    "df = df.dropna()\n",
    "print(df.info())"
   ]
  },
  {
   "cell_type": "markdown",
   "metadata": {},
   "source": [
    "Implement the model:"
   ]
  },
  {
   "cell_type": "code",
   "execution_count": 73,
   "metadata": {
    "executionInfo": {
     "elapsed": 1,
     "status": "ok",
     "timestamp": 1741982201533,
     "user": {
      "displayName": "Daniel Iversen",
      "userId": "04843677771367093898"
     },
     "user_tz": -60
    },
    "id": "1zVnMIgYOTNY"
   },
   "outputs": [
    {
     "name": "stdout",
     "output_type": "stream",
     "text": [
      "Train shape: (16491, 27)\n",
      "Test shape: (168, 27)\n"
     ]
    }
   ],
   "source": [
    "# For an hourly dataset, 7 days = 168 hours.\n",
    "train = df.iloc[:-168].copy()   # Training set: all data except the last week\n",
    "test = df.iloc[-168:].copy()      # Test set: the last week of data\n",
    "\n",
    "print(\"Train shape:\", train.shape)\n",
    "print(\"Test shape:\", test.shape)"
   ]
  },
  {
   "cell_type": "markdown",
   "metadata": {},
   "source": [
    "Testing the lag length, it should be 7 days, so the span from 24th -> 31st seems correct"
   ]
  },
  {
   "cell_type": "code",
   "execution_count": 74,
   "metadata": {},
   "outputs": [
    {
     "name": "stdout",
     "output_type": "stream",
     "text": [
      "Test period from 2012-12-24 00:00:00 to 2012-12-31 00:00:00\n"
     ]
    }
   ],
   "source": [
    "print(\"Test period from\", test['dteday'].min(), \"to\", test['dteday'].max())"
   ]
  },
  {
   "cell_type": "code",
   "execution_count": 75,
   "metadata": {},
   "outputs": [
    {
     "name": "stdout",
     "output_type": "stream",
     "text": [
      "Features used: ['hr', 'weekday', 'mnth', 'yr', 'cnt_lag_1d', 'cnt_lag_1w', 'cnt_lag_1m', 'roll_mean_3h', 'roll_mean_3d']\n",
      "     hr  weekday  mnth  yr  cnt_lag_1d  cnt_lag_1w  cnt_lag_1m  roll_mean_3h  \\\n",
      "720   9        2     2   0       116.0         9.0        16.0    109.000000   \n",
      "721  10        2     2   0        47.0        36.0        40.0    113.000000   \n",
      "722  11        2     2   0        51.0       108.0        32.0     78.666667   \n",
      "723  12        2     2   0        55.0       238.0        13.0     59.000000   \n",
      "724  13        2     2   0        52.0       144.0         1.0     63.666667   \n",
      "\n",
      "     roll_mean_3d  \n",
      "720     58.555556  \n",
      "721     58.875000  \n",
      "722     58.708333  \n",
      "723     58.777778  \n",
      "724     58.472222  \n"
     ]
    }
   ],
   "source": [
    "# Define the features for XGBoost; adjust based on your earlier feature engineering.\n",
    "FEATURES_XGB = [\n",
    "    'hr', 'weekday', 'mnth', 'yr',  # basic time features\n",
    "    'cnt_lag_1d', 'cnt_lag_1w', 'cnt_lag_1m',     # lag features: 1 day, 1 week, 1 month lags\n",
    "    'roll_mean_3h', 'roll_mean_3d'     # rolling means: last 3 hours, last 3 days\n",
    "]\n",
    "TARGET = 'cnt'\n",
    "\n",
    "# Create training and test feature matrices and target vectors\n",
    "X_train_xgb = train[FEATURES_XGB].copy()\n",
    "y_train_xgb = train[TARGET].copy()\n",
    "X_test_xgb = test[FEATURES_XGB].copy()\n",
    "y_test_xgb = test[TARGET].copy()\n",
    "\n",
    "# If any non-numeric column (e.g., 'dteday') exists in X, drop it.\n",
    "for col in ['dteday']:\n",
    "    if col in X_train_xgb.columns:\n",
    "        X_train_xgb = X_train_xgb.drop(columns=[col])\n",
    "    if col in X_test_xgb.columns:\n",
    "        X_test_xgb = X_test_xgb.drop(columns=[col])\n",
    "\n",
    "print(\"Features used:\", FEATURES_XGB)\n",
    "print(X_train_xgb.head())"
   ]
  },
  {
   "cell_type": "markdown",
   "metadata": {},
   "source": [
    "### Take aways\n",
    "\n",
    "* The model gives information about bike rental trends over specified time rolls"
   ]
  },
  {
   "cell_type": "code",
   "execution_count": 76,
   "metadata": {},
   "outputs": [
    {
     "name": "stdout",
     "output_type": "stream",
     "text": [
      "[0]\ttrain-rmse:181.84086\teval-rmse:141.02598\n",
      "[100]\ttrain-rmse:93.16480\teval-rmse:69.89618\n",
      "[200]\ttrain-rmse:64.01471\teval-rmse:46.14807\n",
      "[300]\ttrain-rmse:54.57088\teval-rmse:37.66048\n"
     ]
    },
    {
     "name": "stderr",
     "output_type": "stream",
     "text": [
      "c:\\Users\\danie\\AppData\\Local\\Programs\\Python\\Python312\\Lib\\site-packages\\xgboost\\core.py:726: FutureWarning: Pass `evals` as keyword args.\n",
      "  warnings.warn(msg, FutureWarning)\n"
     ]
    },
    {
     "name": "stdout",
     "output_type": "stream",
     "text": [
      "[400]\ttrain-rmse:50.29993\teval-rmse:34.13478\n",
      "[500]\ttrain-rmse:47.60191\teval-rmse:31.83483\n",
      "[600]\ttrain-rmse:45.54984\teval-rmse:30.29491\n",
      "[700]\ttrain-rmse:43.83596\teval-rmse:28.95693\n",
      "[800]\ttrain-rmse:42.37358\teval-rmse:28.22465\n",
      "[900]\ttrain-rmse:41.23747\teval-rmse:27.57251\n",
      "[1000]\ttrain-rmse:40.19393\teval-rmse:27.12325\n",
      "[1100]\ttrain-rmse:39.15105\teval-rmse:26.58069\n",
      "[1200]\ttrain-rmse:38.29214\teval-rmse:26.35911\n",
      "[1300]\ttrain-rmse:37.46454\teval-rmse:26.15777\n",
      "[1400]\ttrain-rmse:36.64457\teval-rmse:25.96036\n",
      "[1498]\ttrain-rmse:35.97494\teval-rmse:25.96761\n",
      "Best iteration: 1448\n"
     ]
    }
   ],
   "source": [
    "dtrain = xgb.DMatrix(X_train_xgb, label=y_train_xgb)\n",
    "dtest = xgb.DMatrix(X_test_xgb, label=y_test_xgb)\n",
    "\n",
    "params = {\n",
    "    'objective': 'reg:squarederror',  # Regression objective\n",
    "    'eval_metric': 'rmse',             # Use RMSE for evaluation\n",
    "    'max_depth': 3,                    # Maximum depth of trees\n",
    "    'learning_rate': 0.01,             # Learning rate\n",
    "    'colsample_bytree': 0.8,           # Subsample of features\n",
    "    'subsample': 0.8,                  # Subsample ratio of observations\n",
    "    'seed': 42\n",
    "}\n",
    "\n",
    "watchlist = [(dtrain, 'train'), (dtest, 'eval')]\n",
    "num_round = 4000\n",
    "early_stopping_rounds = 50\n",
    "\n",
    "# Train the XGBoost model with early stopping\n",
    "model = xgb.train(params, dtrain, num_round, watchlist, early_stopping_rounds=early_stopping_rounds, verbose_eval=100)\n",
    "\n",
    "print(\"Best iteration:\", model.best_iteration)"
   ]
  },
  {
   "cell_type": "markdown",
   "metadata": {},
   "source": [
    "Trying out the best amount of iterations"
   ]
  },
  {
   "cell_type": "markdown",
   "metadata": {},
   "source": [
    "Lets try amd visualize the Actual vs Predicted bike rentals:"
   ]
  },
  {
   "cell_type": "code",
   "execution_count": 77,
   "metadata": {},
   "outputs": [
    {
     "name": "stdout",
     "output_type": "stream",
     "text": [
      "XGBoost - Test RMSE: 25.96761006448105\n",
      "XGBoost - Test MAE: 18.541391372680664\n"
     ]
    },
    {
     "data": {
      "image/png": "[encoded data removed]",
      "text/plain": [
       "<Figure size 1000x600 with 1 Axes>"
      ]
     },
     "metadata": {},
     "output_type": "display_data"
    }
   ],
   "source": [
    "import numpy as np\n",
    "from sklearn.metrics import mean_squared_error, mean_absolute_error\n",
    "\n",
    "# Predict on the test set\n",
    "y_pred_xgb = model.predict(dtest)\n",
    "\n",
    "# Calculate RMSE and MAE\n",
    "rmse_xgb = np.sqrt(mean_squared_error(y_test_xgb, y_pred_xgb))\n",
    "mae_xgb = mean_absolute_error(y_test_xgb, y_pred_xgb)\n",
    "\n",
    "print(\"XGBoost - Test RMSE:\", rmse_xgb)\n",
    "print(\"XGBoost - Test MAE:\", mae_xgb)\n",
    "\n",
    "# Plot actual vs. predicted counts for the last week\n",
    "plt.figure(figsize=(10, 6))\n",
    "plt.plot(test.index, y_test_xgb, label='Actual', color='blue')\n",
    "plt.plot(test.index, y_pred_xgb, label='Predicted', color='red', linestyle='dashed')\n",
    "plt.title('Actual vs. Predicted Bike Rentals (Last Week)')\n",
    "plt.xlabel('Datetime')\n",
    "plt.ylabel('Bike Rentals (cnt)')\n",
    "plt.legend()\n",
    "plt.xticks(rotation=45)\n",
    "plt.tight_layout()\n",
    "plt.show()"
   ]
  }
 ],
 "metadata": {
  "colab": {
   "authorship_tag": "ABX9TyMb26EOAn167R98sMfWxmna",
   "provenance": []
  },
  "kernelspec": {
   "display_name": "Python 3",
   "name": "python3"
  },
  "language_info": {
   "codemirror_mode": {
    "name": "ipython",
    "version": 3
   },
   "file_extension": ".py",
   "mimetype": "text/x-python",
   "name": "python",
   "nbconvert_exporter": "python",
   "pygments_lexer": "ipython3",
   "version": "3.12.3"
  }
 },
 "nbformat": 4,
 "nbformat_minor": 0
}
